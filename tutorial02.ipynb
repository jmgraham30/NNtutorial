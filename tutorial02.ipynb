{
 "cells": [
  {
   "cell_type": "code",
   "execution_count": 1,
   "metadata": {},
   "outputs": [
    {
     "name": "stderr",
     "output_type": "stream",
     "text": [
      "\u001b[32m\u001b[1m Activating\u001b[22m\u001b[39m environment at `~/Documents/GitHub/NNtutorial/Project.toml`\n"
     ]
    }
   ],
   "source": [
    "using Pkg;\n",
    "Pkg.activate(\".\");\n",
    "Pkg.instantiate();"
   ]
  },
  {
   "cell_type": "code",
   "execution_count": 2,
   "metadata": {},
   "outputs": [],
   "source": [
    "using LinearAlgebra, DataFrames, Plots, StatsPlots, LaTeXStrings; pyplot();"
   ]
  },
  {
   "cell_type": "code",
   "execution_count": 3,
   "metadata": {},
   "outputs": [],
   "source": [
    "f(x) = 1.2 * (x-2)^2 + 3.2;\n",
    "f_cost(x) = 1.2 * 2 * (x-2);"
   ]
  },
  {
   "cell_type": "code",
   "execution_count": 4,
   "metadata": {},
   "outputs": [],
   "source": [
    "x_vals = 0.0:0.01:4;\n",
    "y_vals = [f(x) for x in x_vals];"
   ]
  },
  {
   "cell_type": "code",
   "execution_count": 5,
   "metadata": {},
   "outputs": [
    {
     "data": {
      "text/plain": [
       "graddesc (generic function with 1 method)"
      ]
     },
     "execution_count": 5,
     "metadata": {},
     "output_type": "execute_result"
    }
   ],
   "source": [
    "function graddesc(x,α,j)\n",
    "    xtrace = zeros(j);\n",
    "    xtrace[1] = x;\n",
    "    ftrace = zeros(j);\n",
    "    ftrace[1] = f(x);\n",
    "    for i in 1:j-1\n",
    "        xtrace[i+1] = xtrace[i] - α*f_cost(xtrace[i]);\n",
    "        ftrace[i+1] = f(xtrace[i+1])\n",
    "    end\n",
    "    DF = DataFrame(x=xtrace,f_x=ftrace)\n",
    "    return DF\n",
    "end"
   ]
  },
  {
   "cell_type": "code",
   "execution_count": 6,
   "metadata": {},
   "outputs": [],
   "source": [
    "DF1 = graddesc(0.1,0.1,100);"
   ]
  },
  {
   "cell_type": "code",
   "execution_count": 7,
   "metadata": {},
   "outputs": [
    {
     "data": {
      "text/html": [
       "<table class=\"data-frame\"><thead><tr><th></th><th>x</th><th>f_x</th></tr><tr><th></th><th>Float64</th><th>Float64</th></tr></thead><tbody><p>5 rows × 2 columns</p><tr><th>1</th><td>0.1</td><td>7.532</td></tr><tr><th>2</th><td>0.556</td><td>5.70216</td></tr><tr><th>3</th><td>0.90256</td><td>4.64525</td></tr><tr><th>4</th><td>1.16595</td><td>4.03478</td></tr><tr><th>5</th><td>1.36612</td><td>3.68217</td></tr></tbody></table>"
      ],
      "text/latex": [
       "\\begin{tabular}{r|cc}\n",
       "\t& x & f\\_x\\\\\n",
       "\t\\hline\n",
       "\t& Float64 & Float64\\\\\n",
       "\t\\hline\n",
       "\t1 & 0.1 & 7.532 \\\\\n",
       "\t2 & 0.556 & 5.70216 \\\\\n",
       "\t3 & 0.90256 & 4.64525 \\\\\n",
       "\t4 & 1.16595 & 4.03478 \\\\\n",
       "\t5 & 1.36612 & 3.68217 \\\\\n",
       "\\end{tabular}\n"
      ],
      "text/plain": [
       "5×2 DataFrame\n",
       "│ Row │ x       │ f_x     │\n",
       "│     │ \u001b[90mFloat64\u001b[39m │ \u001b[90mFloat64\u001b[39m │\n",
       "├─────┼─────────┼─────────┤\n",
       "│ 1   │ 0.1     │ 7.532   │\n",
       "│ 2   │ 0.556   │ 5.70216 │\n",
       "│ 3   │ 0.90256 │ 4.64525 │\n",
       "│ 4   │ 1.16595 │ 4.03478 │\n",
       "│ 5   │ 1.36612 │ 3.68217 │"
      ]
     },
     "execution_count": 7,
     "metadata": {},
     "output_type": "execute_result"
    }
   ],
   "source": [
    "first(DF1,5)"
   ]
  },
  {
   "cell_type": "code",
   "execution_count": 8,
   "metadata": {},
   "outputs": [
    {
     "data": {
      "text/html": [
       "<table class=\"data-frame\"><thead><tr><th></th><th>x</th><th>f_x</th></tr><tr><th></th><th>Float64</th><th>Float64</th></tr></thead><tbody><p>5 rows × 2 columns</p><tr><th>1</th><td>2.0</td><td>3.2</td></tr><tr><th>2</th><td>2.0</td><td>3.2</td></tr><tr><th>3</th><td>2.0</td><td>3.2</td></tr><tr><th>4</th><td>2.0</td><td>3.2</td></tr><tr><th>5</th><td>2.0</td><td>3.2</td></tr></tbody></table>"
      ],
      "text/latex": [
       "\\begin{tabular}{r|cc}\n",
       "\t& x & f\\_x\\\\\n",
       "\t\\hline\n",
       "\t& Float64 & Float64\\\\\n",
       "\t\\hline\n",
       "\t1 & 2.0 & 3.2 \\\\\n",
       "\t2 & 2.0 & 3.2 \\\\\n",
       "\t3 & 2.0 & 3.2 \\\\\n",
       "\t4 & 2.0 & 3.2 \\\\\n",
       "\t5 & 2.0 & 3.2 \\\\\n",
       "\\end{tabular}\n"
      ],
      "text/plain": [
       "5×2 DataFrame\n",
       "│ Row │ x       │ f_x     │\n",
       "│     │ \u001b[90mFloat64\u001b[39m │ \u001b[90mFloat64\u001b[39m │\n",
       "├─────┼─────────┼─────────┤\n",
       "│ 1   │ 2.0     │ 3.2     │\n",
       "│ 2   │ 2.0     │ 3.2     │\n",
       "│ 3   │ 2.0     │ 3.2     │\n",
       "│ 4   │ 2.0     │ 3.2     │\n",
       "│ 5   │ 2.0     │ 3.2     │"
      ]
     },
     "execution_count": 8,
     "metadata": {},
     "output_type": "execute_result"
    }
   ],
   "source": [
    "last(DF1,5)"
   ]
  },
  {
   "cell_type": "code",
   "execution_count": 9,
   "metadata": {},
   "outputs": [],
   "source": [
    "DF2 = graddesc(0.1,0.6,100);"
   ]
  },
  {
   "cell_type": "code",
   "execution_count": 10,
   "metadata": {},
   "outputs": [
    {
     "data": {
      "text/html": [
       "<table class=\"data-frame\"><thead><tr><th></th><th>x</th><th>f_x</th></tr><tr><th></th><th>Float64</th><th>Float64</th></tr></thead><tbody><p>5 rows × 2 columns</p><tr><th>1</th><td>0.1</td><td>7.532</td></tr><tr><th>2</th><td>2.836</td><td>4.03868</td></tr><tr><th>3</th><td>1.63216</td><td>3.36237</td></tr><tr><th>4</th><td>2.16185</td><td>3.23143</td></tr><tr><th>5</th><td>1.92879</td><td>3.20609</td></tr></tbody></table>"
      ],
      "text/latex": [
       "\\begin{tabular}{r|cc}\n",
       "\t& x & f\\_x\\\\\n",
       "\t\\hline\n",
       "\t& Float64 & Float64\\\\\n",
       "\t\\hline\n",
       "\t1 & 0.1 & 7.532 \\\\\n",
       "\t2 & 2.836 & 4.03868 \\\\\n",
       "\t3 & 1.63216 & 3.36237 \\\\\n",
       "\t4 & 2.16185 & 3.23143 \\\\\n",
       "\t5 & 1.92879 & 3.20609 \\\\\n",
       "\\end{tabular}\n"
      ],
      "text/plain": [
       "5×2 DataFrame\n",
       "│ Row │ x       │ f_x     │\n",
       "│     │ \u001b[90mFloat64\u001b[39m │ \u001b[90mFloat64\u001b[39m │\n",
       "├─────┼─────────┼─────────┤\n",
       "│ 1   │ 0.1     │ 7.532   │\n",
       "│ 2   │ 2.836   │ 4.03868 │\n",
       "│ 3   │ 1.63216 │ 3.36237 │\n",
       "│ 4   │ 2.16185 │ 3.23143 │\n",
       "│ 5   │ 1.92879 │ 3.20609 │"
      ]
     },
     "execution_count": 10,
     "metadata": {},
     "output_type": "execute_result"
    }
   ],
   "source": [
    "first(DF2,5)"
   ]
  },
  {
   "cell_type": "code",
   "execution_count": 11,
   "metadata": {},
   "outputs": [
    {
     "data": {
      "text/html": [
       "<table class=\"data-frame\"><thead><tr><th></th><th>x</th><th>f_x</th></tr><tr><th></th><th>Float64</th><th>Float64</th></tr></thead><tbody><p>5 rows × 2 columns</p><tr><th>1</th><td>2.0</td><td>3.2</td></tr><tr><th>2</th><td>2.0</td><td>3.2</td></tr><tr><th>3</th><td>2.0</td><td>3.2</td></tr><tr><th>4</th><td>2.0</td><td>3.2</td></tr><tr><th>5</th><td>2.0</td><td>3.2</td></tr></tbody></table>"
      ],
      "text/latex": [
       "\\begin{tabular}{r|cc}\n",
       "\t& x & f\\_x\\\\\n",
       "\t\\hline\n",
       "\t& Float64 & Float64\\\\\n",
       "\t\\hline\n",
       "\t1 & 2.0 & 3.2 \\\\\n",
       "\t2 & 2.0 & 3.2 \\\\\n",
       "\t3 & 2.0 & 3.2 \\\\\n",
       "\t4 & 2.0 & 3.2 \\\\\n",
       "\t5 & 2.0 & 3.2 \\\\\n",
       "\\end{tabular}\n"
      ],
      "text/plain": [
       "5×2 DataFrame\n",
       "│ Row │ x       │ f_x     │\n",
       "│     │ \u001b[90mFloat64\u001b[39m │ \u001b[90mFloat64\u001b[39m │\n",
       "├─────┼─────────┼─────────┤\n",
       "│ 1   │ 2.0     │ 3.2     │\n",
       "│ 2   │ 2.0     │ 3.2     │\n",
       "│ 3   │ 2.0     │ 3.2     │\n",
       "│ 4   │ 2.0     │ 3.2     │\n",
       "│ 5   │ 2.0     │ 3.2     │"
      ]
     },
     "execution_count": 11,
     "metadata": {},
     "output_type": "execute_result"
    }
   ],
   "source": [
    "last(DF2,5)"
   ]
  },
  {
   "cell_type": "code",
   "execution_count": 12,
   "metadata": {},
   "outputs": [],
   "source": [
    "DF3 = graddesc(0.1,0.8,100);"
   ]
  },
  {
   "cell_type": "code",
   "execution_count": 13,
   "metadata": {},
   "outputs": [
    {
     "data": {
      "text/html": [
       "<table class=\"data-frame\"><thead><tr><th></th><th>x</th><th>f_x</th></tr><tr><th></th><th>Float64</th><th>Float64</th></tr></thead><tbody><p>5 rows × 2 columns</p><tr><th>1</th><td>0.1</td><td>7.532</td></tr><tr><th>2</th><td>3.748</td><td>6.8666</td></tr><tr><th>3</th><td>0.39184</td><td>6.30341</td></tr><tr><th>4</th><td>3.47951</td><td>5.82673</td></tr><tr><th>5</th><td>0.638853</td><td>5.42326</td></tr></tbody></table>"
      ],
      "text/latex": [
       "\\begin{tabular}{r|cc}\n",
       "\t& x & f\\_x\\\\\n",
       "\t\\hline\n",
       "\t& Float64 & Float64\\\\\n",
       "\t\\hline\n",
       "\t1 & 0.1 & 7.532 \\\\\n",
       "\t2 & 3.748 & 6.8666 \\\\\n",
       "\t3 & 0.39184 & 6.30341 \\\\\n",
       "\t4 & 3.47951 & 5.82673 \\\\\n",
       "\t5 & 0.638853 & 5.42326 \\\\\n",
       "\\end{tabular}\n"
      ],
      "text/plain": [
       "5×2 DataFrame\n",
       "│ Row │ x        │ f_x     │\n",
       "│     │ \u001b[90mFloat64\u001b[39m  │ \u001b[90mFloat64\u001b[39m │\n",
       "├─────┼──────────┼─────────┤\n",
       "│ 1   │ 0.1      │ 7.532   │\n",
       "│ 2   │ 3.748    │ 6.8666  │\n",
       "│ 3   │ 0.39184  │ 6.30341 │\n",
       "│ 4   │ 3.47951  │ 5.82673 │\n",
       "│ 5   │ 0.638853 │ 5.42326 │"
      ]
     },
     "execution_count": 13,
     "metadata": {},
     "output_type": "execute_result"
    }
   ],
   "source": [
    "first(DF3,5)"
   ]
  },
  {
   "cell_type": "code",
   "execution_count": 14,
   "metadata": {},
   "outputs": [
    {
     "data": {
      "text/html": [
       "<table class=\"data-frame\"><thead><tr><th></th><th>x</th><th>f_x</th></tr><tr><th></th><th>Float64</th><th>Float64</th></tr></thead><tbody><p>5 rows × 2 columns</p><tr><th>1</th><td>2.00069</td><td>3.2</td></tr><tr><th>2</th><td>1.99937</td><td>3.2</td></tr><tr><th>3</th><td>2.00058</td><td>3.2</td></tr><tr><th>4</th><td>1.99946</td><td>3.2</td></tr><tr><th>5</th><td>2.00049</td><td>3.2</td></tr></tbody></table>"
      ],
      "text/latex": [
       "\\begin{tabular}{r|cc}\n",
       "\t& x & f\\_x\\\\\n",
       "\t\\hline\n",
       "\t& Float64 & Float64\\\\\n",
       "\t\\hline\n",
       "\t1 & 2.00069 & 3.2 \\\\\n",
       "\t2 & 1.99937 & 3.2 \\\\\n",
       "\t3 & 2.00058 & 3.2 \\\\\n",
       "\t4 & 1.99946 & 3.2 \\\\\n",
       "\t5 & 2.00049 & 3.2 \\\\\n",
       "\\end{tabular}\n"
      ],
      "text/plain": [
       "5×2 DataFrame\n",
       "│ Row │ x       │ f_x     │\n",
       "│     │ \u001b[90mFloat64\u001b[39m │ \u001b[90mFloat64\u001b[39m │\n",
       "├─────┼─────────┼─────────┤\n",
       "│ 1   │ 2.00069 │ 3.2     │\n",
       "│ 2   │ 1.99937 │ 3.2     │\n",
       "│ 3   │ 2.00058 │ 3.2     │\n",
       "│ 4   │ 1.99946 │ 3.2     │\n",
       "│ 5   │ 2.00049 │ 3.2     │"
      ]
     },
     "execution_count": 14,
     "metadata": {},
     "output_type": "execute_result"
    }
   ],
   "source": [
    "last(DF3,5)"
   ]
  },
  {
   "cell_type": "code",
   "execution_count": 15,
   "metadata": {},
   "outputs": [],
   "source": [
    "p1=plot(x_vals,y_vals,legend=false);\n",
    "@df DF1 plot!(p1,:x,:f_x,m=:dot);\n",
    "plot!(p1,title=L\"\\alpha = 0.1\");"
   ]
  },
  {
   "cell_type": "code",
   "execution_count": 16,
   "metadata": {},
   "outputs": [],
   "source": [
    "p2=plot(x_vals,y_vals,legend=false);\n",
    "@df DF2 plot!(p2,:x,:f_x,m=:dot);\n",
    "plot!(p2,title=L\"\\alpha = 0.6\");"
   ]
  },
  {
   "cell_type": "code",
   "execution_count": 17,
   "metadata": {},
   "outputs": [],
   "source": [
    "p3=plot(x_vals,y_vals,legend=false);\n",
    "@df DF3 plot!(p3,:x,:f_x,m=:dot);\n",
    "plot!(p3,title=L\"\\alpha = 0.8\");"
   ]
  },
  {
   "cell_type": "code",
   "execution_count": 18,
   "metadata": {},
   "outputs": [
    {
     "data": {
      "image/png": "[encoded data removed]"
     },
     "execution_count": 18,
     "metadata": {},
     "output_type": "execute_result"
    }
   ],
   "source": [
    "plot(p1,p2,p3)"
   ]
  },
  {
   "cell_type": "code",
   "execution_count": 21,
   "metadata": {},
   "outputs": [],
   "source": [
    "#p = plot(x_vals,y_vals,legend=false,title=L\"\\alpha = 0.1\");\n",
    "#anim = @animate for i ∈ 1:nrow(DF1)\n",
    "#    plot!(p,DF1[1:i,1],DF1[1:i,2],m=:dot);\n",
    "#end\n",
    "#gif(anim, \"anim_fps10_01.gif\", fps = 10);"
   ]
  },
  {
   "cell_type": "code",
   "execution_count": 22,
   "metadata": {},
   "outputs": [],
   "source": [
    "#p = plot(x_vals,y_vals,legend=false,title=L\"\\alpha = 0.6\");\n",
    "#anim = @animate for i ∈ 1:nrow(DF2)\n",
    "#    plot!(p,DF2[1:i,1],DF2[1:i,2],m=:dot);\n",
    "#end\n",
    "#gif(anim, \"anim_fps10_02.gif\", fps = 10);"
   ]
  },
  {
   "cell_type": "code",
   "execution_count": 21,
   "metadata": {},
   "outputs": [],
   "source": [
    "#p = plot(x_vals,y_vals,legend=false,title=L\"\\alpha = 0.8\");\n",
    "#anim = @animate for i ∈ 1:nrow(DF3)\n",
    "#    plot!(p,DF3[1:i,1],DF3[1:i,2],m=:dot);\n",
    "#end\n",
    "#gif(anim, \"anim_fps10_03.gif\", fps = 10);"
   ]
  }
 ],
 "metadata": {
  "kernelspec": {
   "display_name": "Julia 1.5.3",
   "language": "julia",
   "name": "julia-1.5"
  },
  "language_info": {
   "file_extension": ".jl",
   "mimetype": "application/julia",
   "name": "julia",
   "version": "1.5.3"
  }
 },
 "nbformat": 4,
 "nbformat_minor": 4
}
