{
 "cells": [
  {
   "cell_type": "code",
   "execution_count": 1,
   "metadata": {},
   "outputs": [
    {
     "name": "stderr",
     "output_type": "stream",
     "text": [
      "\u001b[32m\u001b[1m Activating\u001b[22m\u001b[39m environment at `~/Documents/GitHub/NNtutorial/Project.toml`\n"
     ]
    }
   ],
   "source": [
    "using Pkg;\n",
    "Pkg.activate(\".\");\n",
    "Pkg.instantiate();"
   ]
  },
  {
   "cell_type": "code",
   "execution_count": 2,
   "metadata": {},
   "outputs": [],
   "source": [
    "using LinearAlgebra, DataFrames, Plots, StatsPlots, LaTeXStrings; pyplot();\n",
    "using Random, PyCall, Statistics, StatsBase, MLDataUtils;\n",
    "\n",
    "include(\"nntutorial.jl\");"
   ]
  },
  {
   "cell_type": "markdown",
   "metadata": {},
   "source": [
    "# The Data"
   ]
  },
  {
   "cell_type": "code",
   "execution_count": 3,
   "metadata": {},
   "outputs": [],
   "source": [
    "skldg = pyimport(\"sklearn.datasets\"); # import data import function from python"
   ]
  },
  {
   "cell_type": "code",
   "execution_count": 4,
   "metadata": {},
   "outputs": [],
   "source": [
    "digits = skldg.load_digits(); # load the data"
   ]
  },
  {
   "cell_type": "code",
   "execution_count": 5,
   "metadata": {},
   "outputs": [
    {
     "data": {
      "text/plain": [
       "Dict{Any,Any} with 7 entries:\n",
       "  \"images\"        => [0.0 0.0 … 0.0 0.0; 0.0 0.0 … 0.0 0.0; … ; 0.0 0.0 … 0.0 0…\n",
       "  \"feature_names\" => [\"pixel_0_0\", \"pixel_0_1\", \"pixel_0_2\", \"pixel_0_3\", \"pixe…\n",
       "  \"frame\"         => nothing\n",
       "  \"target_names\"  => [0, 1, 2, 3, 4, 5, 6, 7, 8, 9]\n",
       "  \"data\"          => [0.0 0.0 … 0.0 0.0; 0.0 0.0 … 0.0 0.0; … ; 0.0 0.0 … 0.0 0…\n",
       "  \"target\"        => [0, 1, 2, 3, 4, 5, 6, 7, 8, 9  …  5, 4, 8, 8, 4, 9, 0, 8, …\n",
       "  \"DESCR\"         => \".. _digits_dataset:\\n\\nOptical recognition of handwritten…"
      ]
     },
     "execution_count": 5,
     "metadata": {},
     "output_type": "execute_result"
    }
   ],
   "source": [
    "# here is what is in the data\n",
    "digits"
   ]
  },
  {
   "cell_type": "code",
   "execution_count": 6,
   "metadata": {},
   "outputs": [
    {
     "data": {
      "text/plain": [
       "8×8 Array{Float64,2}:\n",
       " 0.0  0.0   5.0  13.0   9.0   1.0  0.0  0.0\n",
       " 0.0  0.0  13.0  15.0  10.0  15.0  5.0  0.0\n",
       " 0.0  3.0  15.0   2.0   0.0  11.0  8.0  0.0\n",
       " 0.0  4.0  12.0   0.0   0.0   8.0  8.0  0.0\n",
       " 0.0  5.0   8.0   0.0   0.0   9.0  8.0  0.0\n",
       " 0.0  4.0  11.0   0.0   1.0  12.0  7.0  0.0\n",
       " 0.0  2.0  14.0   5.0  10.0  12.0  0.0  0.0\n",
       " 0.0  0.0   6.0  13.0  10.0   0.0  0.0  0.0"
      ]
     },
     "execution_count": 6,
     "metadata": {},
     "output_type": "execute_result"
    }
   ],
   "source": [
    "# let's examine a single image\n",
    "digits[\"images\"][1,:,:]"
   ]
  },
  {
   "cell_type": "code",
   "execution_count": 7,
   "metadata": {},
   "outputs": [
    {
     "data": {
      "image/png": "[encoded data removed]"
     },
     "execution_count": 7,
     "metadata": {},
     "output_type": "execute_result"
    }
   ],
   "source": [
    "# visualization \n",
    "heatmap(digits[\"images\"][1,:,:], color = :greys)"
   ]
  },
  {
   "cell_type": "code",
   "execution_count": 8,
   "metadata": {},
   "outputs": [
    {
     "data": {
      "text/plain": [
       "0"
      ]
     },
     "execution_count": 8,
     "metadata": {},
     "output_type": "execute_result"
    }
   ],
   "source": [
    "# show the value of first digit\n",
    "digits[\"target\"][1]"
   ]
  },
  {
   "cell_type": "code",
   "execution_count": 9,
   "metadata": {},
   "outputs": [
    {
     "data": {
      "text/plain": [
       "64-element Array{Float64,1}:\n",
       "  0.0\n",
       "  0.0\n",
       "  5.0\n",
       " 13.0\n",
       "  9.0\n",
       "  1.0\n",
       "  0.0\n",
       "  0.0\n",
       "  0.0\n",
       "  0.0\n",
       " 13.0\n",
       " 15.0\n",
       " 10.0\n",
       "  ⋮\n",
       " 10.0\n",
       " 12.0\n",
       "  0.0\n",
       "  0.0\n",
       "  0.0\n",
       "  0.0\n",
       "  6.0\n",
       " 13.0\n",
       " 10.0\n",
       "  0.0\n",
       "  0.0\n",
       "  0.0"
      ]
     },
     "execution_count": 9,
     "metadata": {},
     "output_type": "execute_result"
    }
   ],
   "source": [
    "# show the pixel values for the first digit\n",
    "digits[\"data\"][1,:]"
   ]
  },
  {
   "cell_type": "code",
   "execution_count": 10,
   "metadata": {},
   "outputs": [
    {
     "data": {
      "text/plain": [
       "1797×64 Array{Float64,2}:\n",
       " 0.0  0.0   5.0  13.0   9.0   1.0   0.0  …   6.0  13.0  10.0   0.0   0.0  0.0\n",
       " 0.0  0.0   0.0  12.0  13.0   5.0   0.0      0.0  11.0  16.0  10.0   0.0  0.0\n",
       " 0.0  0.0   0.0   4.0  15.0  12.0   0.0      0.0   3.0  11.0  16.0   9.0  0.0\n",
       " 0.0  0.0   7.0  15.0  13.0   1.0   0.0      7.0  13.0  13.0   9.0   0.0  0.0\n",
       " 0.0  0.0   0.0   1.0  11.0   0.0   0.0      0.0   2.0  16.0   4.0   0.0  0.0\n",
       " 0.0  0.0  12.0  10.0   0.0   0.0   0.0  …   9.0  16.0  16.0  10.0   0.0  0.0\n",
       " 0.0  0.0   0.0  12.0  13.0   0.0   0.0      1.0   9.0  15.0  11.0   3.0  0.0\n",
       " 0.0  0.0   7.0   8.0  13.0  16.0  15.0     13.0   5.0   0.0   0.0   0.0  0.0\n",
       " 0.0  0.0   9.0  14.0   8.0   1.0   0.0     11.0  16.0  15.0  11.0   1.0  0.0\n",
       " 0.0  0.0  11.0  12.0   0.0   0.0   0.0      9.0  12.0  13.0   3.0   0.0  0.0\n",
       " 0.0  0.0   1.0   9.0  15.0  11.0   0.0  …   1.0  10.0  13.0   3.0   0.0  0.0\n",
       " 0.0  0.0   0.0   0.0  14.0  13.0   1.0      0.0   1.0  13.0  16.0   1.0  0.0\n",
       " 0.0  0.0   5.0  12.0   1.0   0.0   0.0      3.0  11.0   8.0  13.0  12.0  4.0\n",
       " ⋮                            ⋮          ⋱               ⋮                \n",
       " 0.0  1.0  10.0  16.0  15.0   2.0   0.0  …  10.0  15.0   2.0   0.0   0.0  0.0\n",
       " 0.0  0.0   4.0  14.0  15.0   6.0   0.0      4.0  13.0  15.0   9.0   0.0  0.0\n",
       " 0.0  0.0  10.0  16.0  15.0   1.0   0.0      6.0  13.0  10.0   4.0   0.0  0.0\n",
       " 0.0  0.0   0.0   1.0  12.0   6.0   0.0      0.0   0.0  14.0   9.0   0.0  0.0\n",
       " 0.0  0.0   8.0  16.0   3.0   0.0   1.0     10.0  16.0  10.0   1.0   0.0  0.0\n",
       " 0.0  0.0   5.0  12.0   8.0   0.0   1.0  …   6.0  12.0  12.0   3.0   0.0  0.0\n",
       " 0.0  0.0   0.0   3.0  15.0   4.0   0.0      0.0   1.0  16.0   4.0   0.0  0.0\n",
       " 0.0  0.0   4.0  10.0  13.0   6.0   0.0      2.0  14.0  15.0   9.0   0.0  0.0\n",
       " 0.0  0.0   6.0  16.0  13.0  11.0   1.0      6.0  16.0  14.0   6.0   0.0  0.0\n",
       " 0.0  0.0   1.0  11.0  15.0   1.0   0.0      2.0   9.0  13.0   6.0   0.0  0.0\n",
       " 0.0  0.0   2.0  10.0   7.0   0.0   0.0  …   5.0  12.0  16.0  12.0   0.0  0.0\n",
       " 0.0  0.0  10.0  14.0   8.0   1.0   0.0      8.0  12.0  14.0  12.0   1.0  0.0"
      ]
     },
     "execution_count": 10,
     "metadata": {},
     "output_type": "execute_result"
    }
   ],
   "source": [
    "# full set of pixel values, each row is a different image\n",
    "digits[\"data\"]"
   ]
  },
  {
   "cell_type": "code",
   "execution_count": 11,
   "metadata": {},
   "outputs": [],
   "source": [
    "# normalize the data\n",
    "X = standardize(ZScoreTransform, digits[\"data\"], dims=1);\n",
    "function remove_nans(x)\n",
    "    if isnan(x)\n",
    "        return 0.0\n",
    "    else \n",
    "        return x\n",
    "    end\n",
    "end\n",
    "X = remove_nans.(X);"
   ]
  },
  {
   "cell_type": "code",
   "execution_count": 12,
   "metadata": {},
   "outputs": [
    {
     "data": {
      "text/plain": [
       "(1797, 64)"
      ]
     },
     "execution_count": 12,
     "metadata": {},
     "output_type": "execute_result"
    }
   ],
   "source": [
    "size(digits[\"data\"])"
   ]
  },
  {
   "cell_type": "code",
   "execution_count": 13,
   "metadata": {},
   "outputs": [
    {
     "data": {
      "text/plain": [
       "64-element Array{Float64,1}:\n",
       "  0.0\n",
       "  0.0\n",
       "  5.0\n",
       " 13.0\n",
       "  9.0\n",
       "  1.0\n",
       "  0.0\n",
       "  0.0\n",
       "  0.0\n",
       "  0.0\n",
       " 13.0\n",
       " 15.0\n",
       " 10.0\n",
       "  ⋮\n",
       " 10.0\n",
       " 12.0\n",
       "  0.0\n",
       "  0.0\n",
       "  0.0\n",
       "  0.0\n",
       "  6.0\n",
       " 13.0\n",
       " 10.0\n",
       "  0.0\n",
       "  0.0\n",
       "  0.0"
      ]
     },
     "execution_count": 13,
     "metadata": {},
     "output_type": "execute_result"
    }
   ],
   "source": [
    "digits[\"data\"][1, :]"
   ]
  },
  {
   "cell_type": "code",
   "execution_count": 14,
   "metadata": {},
   "outputs": [
    {
     "data": {
      "text/plain": [
       "64-element Array{Float64,1}:\n",
       "  0.0\n",
       " -0.33492325878805623\n",
       " -0.043069029109717966\n",
       "  0.27399525202861885\n",
       " -0.6642926016787297\n",
       " -0.8438944820720514\n",
       " -0.40960990281505144\n",
       " -0.12498813188874437\n",
       " -0.059061117002451896\n",
       " -0.6238356128858208\n",
       "  0.4828400969954889\n",
       "  0.7594110633517563\n",
       " -0.058409604319378854\n",
       "  ⋮\n",
       "  0.11009908693312889\n",
       "  0.537461555837553\n",
       " -0.7572250303913418\n",
       " -0.20972674790990398\n",
       " -0.023589892481053584\n",
       " -0.29899811837308815\n",
       "  0.0866945575958979\n",
       "  0.2082346133387899\n",
       " -0.3666691579949807\n",
       " -1.1463283667812885\n",
       " -0.5055290846700855\n",
       " -0.19595297364240172"
      ]
     },
     "execution_count": 14,
     "metadata": {},
     "output_type": "execute_result"
    }
   ],
   "source": [
    "X[1, :]"
   ]
  },
  {
   "cell_type": "code",
   "execution_count": 15,
   "metadata": {},
   "outputs": [
    {
     "data": {
      "text/plain": [
       "-0.0157130590095214"
      ]
     },
     "execution_count": 15,
     "metadata": {},
     "output_type": "execute_result"
    }
   ],
   "source": [
    "mean(X[1,:])"
   ]
  },
  {
   "cell_type": "code",
   "execution_count": 16,
   "metadata": {},
   "outputs": [
    {
     "data": {
      "text/plain": [
       "0.7666185947757449"
      ]
     },
     "execution_count": 16,
     "metadata": {},
     "output_type": "execute_result"
    }
   ],
   "source": [
    "std(X[1,:])"
   ]
  },
  {
   "cell_type": "code",
   "execution_count": 17,
   "metadata": {},
   "outputs": [],
   "source": [
    "# split the data\n",
    "(x_train,y_train), (x_test,y_test) = splitobs((X', digits[\"target\"]), at = 0.6);"
   ]
  },
  {
   "cell_type": "code",
   "execution_count": 18,
   "metadata": {},
   "outputs": [
    {
     "data": {
      "text/plain": [
       "(64, 1078)"
      ]
     },
     "execution_count": 18,
     "metadata": {},
     "output_type": "execute_result"
    }
   ],
   "source": [
    "size(x_train)"
   ]
  },
  {
   "cell_type": "code",
   "execution_count": 19,
   "metadata": {},
   "outputs": [
    {
     "data": {
      "text/plain": [
       "(64, 719)"
      ]
     },
     "execution_count": 19,
     "metadata": {},
     "output_type": "execute_result"
    }
   ],
   "source": [
    "size(x_test)"
   ]
  },
  {
   "cell_type": "code",
   "execution_count": 20,
   "metadata": {},
   "outputs": [
    {
     "data": {
      "text/plain": [
       "(1078,)"
      ]
     },
     "execution_count": 20,
     "metadata": {},
     "output_type": "execute_result"
    }
   ],
   "source": [
    "size(y_train)"
   ]
  },
  {
   "cell_type": "code",
   "execution_count": 21,
   "metadata": {},
   "outputs": [
    {
     "data": {
      "text/plain": [
       "(719,)"
      ]
     },
     "execution_count": 21,
     "metadata": {},
     "output_type": "execute_result"
    }
   ],
   "source": [
    "size(y_test)"
   ]
  },
  {
   "cell_type": "code",
   "execution_count": 22,
   "metadata": {},
   "outputs": [
    {
     "data": {
      "text/plain": [
       "convertytovect (generic function with 1 method)"
      ]
     },
     "execution_count": 22,
     "metadata": {},
     "output_type": "execute_result"
    }
   ],
   "source": [
    "function convertytovect(y)\n",
    "    N = length(y);\n",
    "    yvect = zeros(N,10);\n",
    "    for i =1:N\n",
    "        yvect[i,y[i]+1] = 1;\n",
    "    end\n",
    "    return yvect\n",
    "end"
   ]
  },
  {
   "cell_type": "code",
   "execution_count": 23,
   "metadata": {},
   "outputs": [],
   "source": [
    "yvtrain = convertytovect(y_train);\n",
    "yvtest = convertytovect(y_test);"
   ]
  },
  {
   "cell_type": "code",
   "execution_count": 24,
   "metadata": {},
   "outputs": [
    {
     "data": {
      "text/plain": [
       "1"
      ]
     },
     "execution_count": 24,
     "metadata": {},
     "output_type": "execute_result"
    }
   ],
   "source": [
    "y_train[12]"
   ]
  },
  {
   "cell_type": "code",
   "execution_count": 25,
   "metadata": {},
   "outputs": [
    {
     "data": {
      "text/plain": [
       "10-element Array{Float64,1}:\n",
       " 0.0\n",
       " 1.0\n",
       " 0.0\n",
       " 0.0\n",
       " 0.0\n",
       " 0.0\n",
       " 0.0\n",
       " 0.0\n",
       " 0.0\n",
       " 0.0"
      ]
     },
     "execution_count": 25,
     "metadata": {},
     "output_type": "execute_result"
    }
   ],
   "source": [
    "yvtrain[12,:]"
   ]
  },
  {
   "cell_type": "code",
   "execution_count": 27,
   "metadata": {},
   "outputs": [
    {
     "data": {
      "text/plain": [
       "64-element Array{Float64,1}:\n",
       "  0.0\n",
       " -0.33492325878805623\n",
       " -1.0946321447369363\n",
       " -2.7856620532488976\n",
       "  0.5019186187361562\n",
       "  1.2738456100263678\n",
       " -0.10892812366527718\n",
       " -0.12498813188874437\n",
       " -0.059061117002451896\n",
       " -0.6238356128858208\n",
       " -1.9150399000095313\n",
       " -1.7547040450548506\n",
       "  1.1961169968191563\n",
       "  ⋮\n",
       "  1.241737175887366\n",
       "  0.8690730290873667\n",
       " -0.7572250303913418\n",
       " -0.20972674790990398\n",
       " -0.023589892481053584\n",
       " -0.29899811837308815\n",
       " -1.089079932968847\n",
       " -2.5348143799646126\n",
       "  0.2413632722575388\n",
       "  1.5652498480846604\n",
       " -0.2610630552965269\n",
       " -0.19595297364240172"
      ]
     },
     "execution_count": 27,
     "metadata": {},
     "output_type": "execute_result"
    }
   ],
   "source": [
    "x_train'[12,:]"
   ]
  },
  {
   "cell_type": "code",
   "execution_count": 28,
   "metadata": {},
   "outputs": [],
   "source": [
    "nn_structure = (64,30,10);"
   ]
  },
  {
   "cell_type": "code",
   "execution_count": 29,
   "metadata": {},
   "outputs": [
    {
     "data": {
      "text/plain": [
       "setup_init_weights (generic function with 1 method)"
      ]
     },
     "execution_count": 29,
     "metadata": {},
     "output_type": "execute_result"
    }
   ],
   "source": [
    "function setup_init_weights(nn_structure)\n",
    "    W = Dict();\n",
    "    b = Dict();\n",
    "    for l = 2:length(nn_structure)\n",
    "        push!(W,l=>randn(nn_structure[l],nn_structure[l-1]))\n",
    "        push!(b,l=>randn(nn_structure[l]))\n",
    "    end\n",
    "    return W, b\n",
    "end"
   ]
  },
  {
   "cell_type": "code",
   "execution_count": 30,
   "metadata": {},
   "outputs": [
    {
     "data": {
      "text/plain": [
       "init_tri_values (generic function with 1 method)"
      ]
     },
     "execution_count": 30,
     "metadata": {},
     "output_type": "execute_result"
    }
   ],
   "source": [
    "function init_tri_values(nn_structure)\n",
    "    tri_W = Dict();\n",
    "    tri_b = Dict();\n",
    "    for l = 2:length(nn_structure)\n",
    "        push!(tri_W,l=>zeros(nn_structure[l],nn_structure[l-1]))\n",
    "        push!(tri_b,l=>zeros(nn_structure[l]))\n",
    "    end\n",
    "    return tri_W, tri_b\n",
    "end"
   ]
  },
  {
   "cell_type": "code",
   "execution_count": 31,
   "metadata": {},
   "outputs": [],
   "source": [
    "f(x) = nntutorial.factivate(x);"
   ]
  },
  {
   "cell_type": "code",
   "execution_count": 32,
   "metadata": {},
   "outputs": [
    {
     "data": {
      "text/plain": [
       "feed_forward (generic function with 1 method)"
      ]
     },
     "execution_count": 32,
     "metadata": {},
     "output_type": "execute_result"
    }
   ],
   "source": [
    "function feed_forward(x, W, b)\n",
    "    h = Dict(2=>x);\n",
    "    z = Dict();\n",
    "    node_in = 0.0;\n",
    "    for l = 2:length(keys(W))+1\n",
    "        if 1 == 2\n",
    "            node_in = x;\n",
    "        else\n",
    "            node_in = h[l];\n",
    "        end\n",
    "        z[l+1] = W[l]*node_in .+ b[l];\n",
    "        h[l+1] = f.(z[l+1]);\n",
    "    end\n",
    "    return h, z\n",
    "end"
   ]
  },
  {
   "cell_type": "code",
   "execution_count": 33,
   "metadata": {},
   "outputs": [],
   "source": [
    "f′(x) = nntutorial.factivateprime(x);"
   ]
  },
  {
   "cell_type": "code",
   "execution_count": 34,
   "metadata": {},
   "outputs": [
    {
     "data": {
      "text/plain": [
       "calculate_out_layer_delta (generic function with 1 method)"
      ]
     },
     "execution_count": 34,
     "metadata": {},
     "output_type": "execute_result"
    }
   ],
   "source": [
    "function calculate_out_layer_delta(y,h_out,z_out)\n",
    "    return -(y .- h_out).*f′.(z_out)\n",
    "end"
   ]
  },
  {
   "cell_type": "code",
   "execution_count": 35,
   "metadata": {},
   "outputs": [
    {
     "data": {
      "text/plain": [
       "calculate_hidden_delta (generic function with 1 method)"
      ]
     },
     "execution_count": 35,
     "metadata": {},
     "output_type": "execute_result"
    }
   ],
   "source": [
    "function calculate_hidden_delta(delta_plus_1,w_l,z_l)\n",
    "    return w_l'*delta_plus_1 .* f′.(z_l)\n",
    "end"
   ]
  },
  {
   "cell_type": "code",
   "execution_count": 36,
   "metadata": {},
   "outputs": [
    {
     "name": "stdout",
     "output_type": "stream",
     "text": [
      "Number of iterations = 10\n"
     ]
    }
   ],
   "source": [
    "iter_num = 10;\n",
    "println(\"Number of iterations = $iter_num\")"
   ]
  },
  {
   "cell_type": "code",
   "execution_count": 36,
   "metadata": {},
   "outputs": [
    {
     "data": {
      "text/plain": [
       "do_something (generic function with 1 method)"
      ]
     },
     "execution_count": 36,
     "metadata": {},
     "output_type": "execute_result"
    }
   ],
   "source": [
    "function do_something(nn_structure,X,y,W,b,tri_W,tri_b,avg_cost)\n",
    "    for i = 1:length(y)\n",
    "            delta = Dict();\n",
    "            # perform the feed forward pass and return the stored h and z values, to be used in the\n",
    "            # gradient descent step\n",
    "            h, z = feed_forward(X[i, :], W, b);\n",
    "            # loop from nl-1 to 1 backpropagating the errors\n",
    "            for l = length(nn_structure):-1:1\n",
    "                if l == length(nn_structure)\n",
    "                    delta[l] = calculate_out_layer_delta(y[i,:], h[l], z[l]);\n",
    "                    avg_cost = avg_cost + norm((y[i,:]-h[l]));\n",
    "                else\n",
    "                    if l > 1\n",
    "                        delta[l] = calculate_hidden_delta(delta[l+1], W[l], z[l])\n",
    "                    end\n",
    "                    # triW^(l) = triW^(l) + delta^(l+1) * transpose(h^(l))\n",
    "                    tri_W[l] = tri_W[l] + delta[l+1]*h[l]'; \n",
    "                    # trib^(l) = trib^(l) + delta^(l+1)\n",
    "                    tri_b[l] = tri_b[l] + delta[l+1];\n",
    "                end\n",
    "            end\n",
    "    end\n",
    "    return avg_cost, tri_W, tri_b\n",
    "end"
   ]
  },
  {
   "cell_type": "code",
   "execution_count": 37,
   "metadata": {},
   "outputs": [
    {
     "data": {
      "text/plain": [
       "do_something_else (generic function with 1 method)"
      ]
     },
     "execution_count": 37,
     "metadata": {},
     "output_type": "execute_result"
    }
   ],
   "source": [
    "# perform the gradient descent step for the weights in each layer\n",
    "function do_something_else(nn_structure,W,b,tri_W,tri_b,m,alpha)\n",
    "    for l = length(nn_structure)-1:-1:1\n",
    "            W[l] = W[l] +  -alpha * (1.0/m * tri_W[l])\n",
    "            b[l] = b[l] +  -alpha * (1.0/m * tri_b[l])\n",
    "    end\n",
    "    return W, b\n",
    "end"
   ]
  },
  {
   "cell_type": "code",
   "execution_count": 38,
   "metadata": {},
   "outputs": [
    {
     "data": {
      "text/plain": [
       "train_nn (generic function with 1 method)"
      ]
     },
     "execution_count": 38,
     "metadata": {},
     "output_type": "execute_result"
    }
   ],
   "source": [
    "function train_nn(nn_structure, X, y; iter_num=3000, alpha=0.25)\n",
    "    W, b = setup_init_weights(nn_structure);\n",
    "    cnt = 0;\n",
    "    m = length(y);\n",
    "    avg_cost_func = [];\n",
    "    println(\"Starting gradient descent for $iter_num iterations.\")\n",
    "    while cnt < iter_num\n",
    "        if cnt%1000 == 0\n",
    "            println(\"Iteration $cnt of $iter_num iterations.\")\n",
    "        end\n",
    "        tri_W, tri_b = init_tri_values(nn_structure);\n",
    "        avg_cost = 0;\n",
    "        avg_cost, tri_W, tri_b = do_something(nn_structure,X,y,W,b,tri_W,tri_b,avg_cost);\n",
    "        W, b = do_something_else(nn_structure,W,b,tri_W,tri_b,m,alpha);\n",
    "        # complete the average cost calculation\n",
    "        avg_cost = 1.0/m * avg_cost\n",
    "        append!(avg_cost_func,avg_cost)\n",
    "        cnt = cnt + 1;\n",
    "    end\n",
    "    return W, b, avg_cost_func\n",
    "end"
   ]
  },
  {
   "cell_type": "code",
   "execution_count": null,
   "metadata": {},
   "outputs": [],
   "source": [
    "W, b, avg_cost_func = train_nn(nn_structure, x_train', yvtrain);"
   ]
  },
  {
   "cell_type": "code",
   "execution_count": null,
   "metadata": {},
   "outputs": [],
   "source": []
  }
 ],
 "metadata": {
  "kernelspec": {
   "display_name": "Julia 1.5.3",
   "language": "julia",
   "name": "julia-1.5"
  },
  "language_info": {
   "file_extension": ".jl",
   "mimetype": "application/julia",
   "name": "julia",
   "version": "1.5.3"
  }
 },
 "nbformat": 4,
 "nbformat_minor": 4
}
