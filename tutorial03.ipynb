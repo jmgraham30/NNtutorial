{
 "cells": [
  {
   "cell_type": "code",
   "execution_count": 1,
   "metadata": {},
   "outputs": [
    {
     "name": "stderr",
     "output_type": "stream",
     "text": [
      "\u001b[32m\u001b[1m Activating\u001b[22m\u001b[39m environment at `~/Documents/GitHub/NNtutorial/Project.toml`\n"
     ]
    }
   ],
   "source": [
    "using Pkg;\n",
    "Pkg.activate(\".\");\n",
    "Pkg.instantiate();"
   ]
  },
  {
   "cell_type": "code",
   "execution_count": 2,
   "metadata": {},
   "outputs": [],
   "source": [
    "using LinearAlgebra, DataFrames, Plots, StatsPlots, LaTeXStrings; pyplot();\n",
    "\n",
    "include(\"nntutorial.jl\");"
   ]
  },
  {
   "cell_type": "code",
   "execution_count": 3,
   "metadata": {},
   "outputs": [],
   "source": [
    "f(x) = x^4 - 4.0*x^3 - 2.0*x^2 + 5.0*x + 9.0;\n",
    "\n",
    "f_cost(x) = 4.0*x^3 - 12.0*x^2 - 4.0*x + 5.0;\n",
    "\n",
    "x_vals = -3.0:0.01:4.0;"
   ]
  },
  {
   "cell_type": "code",
   "execution_count": null,
   "metadata": {},
   "outputs": [],
   "source": []
  }
 ],
 "metadata": {
  "kernelspec": {
   "display_name": "Julia 1.5.3",
   "language": "julia",
   "name": "julia-1.5"
  },
  "language_info": {
   "file_extension": ".jl",
   "mimetype": "application/julia",
   "name": "julia",
   "version": "1.5.3"
  }
 },
 "nbformat": 4,
 "nbformat_minor": 4
}
